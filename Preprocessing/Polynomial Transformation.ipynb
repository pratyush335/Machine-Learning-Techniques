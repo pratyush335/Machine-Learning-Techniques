{
 "cells": [
  {
   "cell_type": "code",
   "execution_count": null,
   "id": "b7696522",
   "metadata": {},
   "outputs": [],
   "source": [
    "# Model linear regression given only X and y, \n",
    "      #apply appropriate polynomial transformation, \n",
    "      #return RMSE error, \n",
    "\n",
    "def polynomial_transformation(X,n):\n",
    "  features = [np.ones(X.shape[0])]\n",
    "  X_=X.T\n",
    "  for i in range (1,n+1):\n",
    "    for items in itertools.combinations_with_replacement(X_,i):\n",
    "      features.append(functools.reduce(lambda x,y: x*y,items))\n",
    "  return np.asarray(features).T\n",
    "\n",
    "def predict(X,w):\n",
    "  return X@w\n",
    "def error (X,w, y):\n",
    "  return predict(X,w)-y\n",
    "def loss (X,w, y):\n",
    "  e = error(X,w,y)\n",
    "  loss = 1/2*(e.T@e) #SumSquaredError\n",
    "def fit(X,y):\n",
    "  w = np.linalg.pinv(X)@y\n",
    "  return w\n",
    "def model_error(X,y,degree):\n",
    "  x = poly(X,degree)\n",
    "  w = fit(x,y)\n",
    "  y_ = predict(x,w)\n",
    "  SSE = loss(x,y_,w)\n",
    "  RMSE = np.sqrt((2/x.shape[0]) *(SSE))\n",
    "  return RMSE"
   ]
  }
 ],
 "metadata": {
  "kernelspec": {
   "display_name": "Python 3",
   "language": "python",
   "name": "python3"
  },
  "language_info": {
   "codemirror_mode": {
    "name": "ipython",
    "version": 3
   },
   "file_extension": ".py",
   "mimetype": "text/x-python",
   "name": "python",
   "nbconvert_exporter": "python",
   "pygments_lexer": "ipython3",
   "version": "3.8.8"
  }
 },
 "nbformat": 4,
 "nbformat_minor": 5
}
