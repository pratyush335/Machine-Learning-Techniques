{
 "cells": [
  {
   "cell_type": "markdown",
   "id": "dcf976d7",
   "metadata": {},
   "source": [
    "# One Hot Encoding"
   ]
  },
  {
   "cell_type": "code",
   "execution_count": 1,
   "id": "750cc567",
   "metadata": {},
   "outputs": [],
   "source": [
    "import numpy as np"
   ]
  },
  {
   "cell_type": "markdown",
   "id": "4dad2397",
   "metadata": {},
   "source": [
    "## Manual Method"
   ]
  },
  {
   "cell_type": "code",
   "execution_count": 84,
   "id": "955972cf",
   "metadata": {
    "scrolled": true
   },
   "outputs": [],
   "source": [
    "y = np.array([1,2,4,2,5,6,3])\n",
    "one_hot = np.zeros( (len(y),k) ) #note the dual bracket "
   ]
  },
  {
   "cell_type": "code",
   "execution_count": 72,
   "id": "478d691c",
   "metadata": {},
   "outputs": [
    {
     "data": {
      "text/plain": [
       "(7, 6)"
      ]
     },
     "execution_count": 72,
     "metadata": {},
     "output_type": "execute_result"
    }
   ],
   "source": [
    "y.size, y.max() #length of the array and total number of classes"
   ]
  },
  {
   "cell_type": "code",
   "execution_count": 87,
   "id": "f7ec2f53",
   "metadata": {},
   "outputs": [
    {
     "data": {
      "text/plain": [
       "array([[0., 1., 0., 0., 0., 0., 0.],\n",
       "       [0., 0., 1., 0., 0., 0., 0.],\n",
       "       [0., 0., 0., 0., 1., 0., 0.],\n",
       "       [0., 0., 1., 0., 0., 0., 0.],\n",
       "       [0., 0., 0., 0., 0., 1., 0.],\n",
       "       [0., 0., 0., 0., 0., 0., 1.],\n",
       "       [0., 0., 0., 1., 0., 0., 0.]])"
      ]
     },
     "execution_count": 87,
     "metadata": {},
     "output_type": "execute_result"
    }
   ],
   "source": [
    "encoding = np.zeros((y.size,y.max()+1)) #len(y) alternatively\n",
    "encoding[np.arange(y.size),y]=1\n",
    "encoding"
   ]
  }
 ],
 "metadata": {
  "kernelspec": {
   "display_name": "Python 3",
   "language": "python",
   "name": "python3"
  },
  "language_info": {
   "codemirror_mode": {
    "name": "ipython",
    "version": 3
   },
   "file_extension": ".py",
   "mimetype": "text/x-python",
   "name": "python",
   "nbconvert_exporter": "python",
   "pygments_lexer": "ipython3",
   "version": "3.8.8"
  }
 },
 "nbformat": 4,
 "nbformat_minor": 5
}
