{
 "cells": [
  {
   "cell_type": "markdown",
   "id": "9040c43b",
   "metadata": {},
   "source": [
    "# Softmax Regression "
   ]
  },
  {
   "cell_type": "code",
   "execution_count": 2,
   "id": "d0e9f442",
   "metadata": {},
   "outputs": [],
   "source": [
    "import numpy as np"
   ]
  },
  {
   "cell_type": "code",
   "execution_count": 1,
   "id": "433ad4b7",
   "metadata": {},
   "outputs": [],
   "source": [
    "def predict(X,w,b):\n",
    "    z=X@w+b\n",
    "    return z"
   ]
  },
  {
   "cell_type": "code",
   "execution_count": 14,
   "id": "2eb56412",
   "metadata": {},
   "outputs": [],
   "source": [
    "def softmax(z):\n",
    "    exp = np.exp(z)\n",
    "    return exp/np.sum(exp)"
   ]
  },
  {
   "cell_type": "code",
   "execution_count": 20,
   "id": "98997bcb",
   "metadata": {},
   "outputs": [
    {
     "data": {
      "text/plain": [
       "array([0.0501632 , 0.74641498, 0.20342181])"
      ]
     },
     "execution_count": 20,
     "metadata": {},
     "output_type": "execute_result"
    }
   ],
   "source": [
    "a = np.array([2.1,4.8,3.5])\n",
    "softmax(a)"
   ]
  },
  {
   "cell_type": "markdown",
   "id": "2a577e66",
   "metadata": {},
   "source": [
    "For multi-dimensional features ..."
   ]
  },
  {
   "cell_type": "code",
   "execution_count": 28,
   "id": "528d68c5",
   "metadata": {},
   "outputs": [],
   "source": [
    "def softmax2(z):\n",
    "    # subtracting max of z for numerical stability\n",
    "    exp = np.exp(z - np.max(z))\n",
    "    for i in range(len(z)):\n",
    "        exp[i] /= np.sum(exp[i])\n",
    "    \n",
    "    return exp"
   ]
  },
  {
   "cell_type": "code",
   "execution_count": 30,
   "id": "19b8dde0",
   "metadata": {},
   "outputs": [
    {
     "data": {
      "text/plain": [
       "array([[0.09003057, 0.24472847, 0.66524096],\n",
       "       [0.09003057, 0.24472847, 0.66524096],\n",
       "       [0.09003057, 0.24472847, 0.66524096]])"
      ]
     },
     "execution_count": 30,
     "metadata": {},
     "output_type": "execute_result"
    }
   ],
   "source": [
    "b = np.array([[1,2,3],[4,5,6],[7,8,9]])\n",
    "softmax2(b)"
   ]
  }
 ],
 "metadata": {
  "kernelspec": {
   "display_name": "Python 3",
   "language": "python",
   "name": "python3"
  },
  "language_info": {
   "codemirror_mode": {
    "name": "ipython",
    "version": 3
   },
   "file_extension": ".py",
   "mimetype": "text/x-python",
   "name": "python",
   "nbconvert_exporter": "python",
   "pygments_lexer": "ipython3",
   "version": "3.8.8"
  }
 },
 "nbformat": 4,
 "nbformat_minor": 5
}
