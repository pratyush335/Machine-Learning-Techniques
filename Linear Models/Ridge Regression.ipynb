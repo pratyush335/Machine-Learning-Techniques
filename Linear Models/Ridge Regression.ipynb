{
 "cells": [
  {
   "cell_type": "code",
   "execution_count": null,
   "id": "6c1702f5",
   "metadata": {},
   "outputs": [],
   "source": [
    "#Ridge Regression (L2 regularisation)\n",
    "\n",
    "def ridge_loss(X, y, w, l):\n",
    "  #preprocessing (adding a dummy feature or bias term)\n",
    "  X = np.column_stack((np.ones(X.shape[0]),X))\n",
    "  #predict ion\n",
    "  y_pred = X@w\n",
    "  #error\n",
    "  e = y_pred - y\n",
    "  #loss\n",
    "  loss = 1/2*((e.T@e)+l*(w.T@w)) #l is the learning rate\n",
    "  return loss"
   ]
  }
 ],
 "metadata": {
  "kernelspec": {
   "display_name": "Python 3",
   "language": "python",
   "name": "python3"
  },
  "language_info": {
   "codemirror_mode": {
    "name": "ipython",
    "version": 3
   },
   "file_extension": ".py",
   "mimetype": "text/x-python",
   "name": "python",
   "nbconvert_exporter": "python",
   "pygments_lexer": "ipython3",
   "version": "3.8.8"
  }
 },
 "nbformat": 4,
 "nbformat_minor": 5
}
